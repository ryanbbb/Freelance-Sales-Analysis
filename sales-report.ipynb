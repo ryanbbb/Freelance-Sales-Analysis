{
 "cells": [
  {
   "cell_type": "code",
   "execution_count": 1,
   "metadata": {},
   "outputs": [],
   "source": [
    "import pandas as pd\n",
    "import numpy as np\n",
    "import os\n",
    "import matplotlib.pyplot as plt"
   ]
  },
  {
   "cell_type": "markdown",
   "metadata": {},
   "source": [
    "## Ask\n",
    "\n",
    "Problem: Optimize client's inventory in order to minimize stock of products that have low demand, and create physical space for more high demand products. Through analysis, find trends geographical, price, and time data in the sales records in order to extract insights."
   ]
  },
  {
   "cell_type": "markdown",
   "metadata": {},
   "source": [
    "## Prepare"
   ]
  },
  {
   "cell_type": "code",
   "execution_count": 2,
   "metadata": {},
   "outputs": [
    {
     "data": {
      "text/plain": [
       "[]"
      ]
     },
     "execution_count": 2,
     "metadata": {},
     "output_type": "execute_result"
    }
   ],
   "source": [
    "frames = []\n",
    "dir = \"C:/Users/ryanb/sales_report/\"\n",
    "try:\n",
    "    for i in os.listdir(dir):\n",
    "        frames.append(pd.read_csv(os.path.join(dir, i)))\n",
    "except:\n",
    "    pass    \n",
    "frames\n"
   ]
  },
  {
   "cell_type": "code",
   "execution_count": 3,
   "metadata": {},
   "outputs": [
    {
     "data": {
      "text/plain": [
       "(1737, 17)"
      ]
     },
     "execution_count": 3,
     "metadata": {},
     "output_type": "execute_result"
    }
   ],
   "source": [
    "df = pd.concat(frames, ignore_index=True)\n",
    "df.shape"
   ]
  },
  {
   "cell_type": "markdown",
   "metadata": {},
   "source": [
    "\n",
    "Clean data, drop NaNs"
   ]
  },
  {
   "cell_type": "code",
   "execution_count": 4,
   "metadata": {},
   "outputs": [
    {
     "name": "stderr",
     "output_type": "stream",
     "text": [
      "C:\\Users\\ryanb\\AppData\\Local\\Temp\\ipykernel_17360\\2677467803.py:2: FutureWarning: In a future version of pandas all arguments of DataFrame.drop except for the argument 'labels' will be keyword-only.\n",
      "  df = df.drop('Shipped from State',1)\n"
     ]
    }
   ],
   "source": [
    "df = df.dropna(axis = 0, thresh = 2)\n",
    "df = df.drop('Shipped from State',1)"
   ]
  },
  {
   "cell_type": "code",
   "execution_count": 5,
   "metadata": {},
   "outputs": [
    {
     "data": {
      "text/plain": [
       "Text(0.5, 1.0, 'Number of Sales by State')"
      ]
     },
     "execution_count": 5,
     "metadata": {},
     "output_type": "execute_result"
    },
    {
     "data": {
      "image/png": "[encoded data removed]",
      "text/plain": [
       "<Figure size 432x288 with 1 Axes>"
      ]
     },
     "metadata": {
      "needs_background": "light"
     },
     "output_type": "display_data"
    }
   ],
   "source": [
    "vals = df.value_counts('Shipped to State')[:4]\n",
    "labels = ['California','Florida','Texas','New York']\n",
    "plt.bar(labels,vals)\n",
    "plt.ylabel('# Sales')\n",
    "plt.title('Number of Sales by State')"
   ]
  },
  {
   "cell_type": "code",
   "execution_count": 2,
   "metadata": {},
   "outputs": [],
   "source": [
    "#WIP, create new column Sold_Year\n",
    "\n",
    "#df['Year'] = df['Sold Date']\n",
    "#df['Year'] = df['Year'].apply(lambda x:  x[:4])"
   ]
  },
  {
   "cell_type": "code",
   "execution_count": 2,
   "metadata": {},
   "outputs": [],
   "source": [
    "df = pd.read_csv('C:/Users/ryanb/sales_report/sales_report_sheet_clean.csv')"
   ]
  },
  {
   "cell_type": "code",
   "execution_count": 31,
   "metadata": {},
   "outputs": [
    {
     "data": {
      "text/plain": [
       "False"
      ]
     },
     "execution_count": 31,
     "metadata": {},
     "output_type": "execute_result"
    }
   ],
   "source": []
  },
  {
   "cell_type": "code",
   "execution_count": 59,
   "metadata": {},
   "outputs": [
    {
     "data": {
      "text/plain": [
       "[<matplotlib.lines.Line2D at 0x2b7efea68f0>]"
      ]
     },
     "execution_count": 59,
     "metadata": {},
     "output_type": "execute_result"
    },
    {
     "data": {
      "image/png": "[encoded data removed]",
      "text/plain": [
       "<Figure size 432x288 with 1 Axes>"
      ]
     },
     "metadata": {
      "needs_background": "light"
     },
     "output_type": "display_data"
    }
   ],
   "source": [
    "plt.plot(df[df['Year'] == 2020]['Shipped to State'].value_counts()[:5] / sum(df[df['Year'] == 2020]['Shipped to State'].value_counts()[:5]), 'bo')"
   ]
  },
  {
   "cell_type": "code",
   "execution_count": 14,
   "metadata": {},
   "outputs": [],
   "source": [
    "texas_item_titles = df['Item Title'][df['Shipped to State']=='Texas']\n",
    "texas_item_titles.to_csv(r'C:\\Users\\ryanb\\sales_report\\texas.csv', index = False)\n",
    "\n",
    "mo_item_titles = df['Item Title'][df['Shipped to State']=='Missouri']\n",
    "mo_item_titles.to_csv(r'C:\\Users\\ryanb\\sales_report\\missouri.csv', index = False)"
   ]
  }
 ],
 "metadata": {
  "kernelspec": {
   "display_name": "Python 3.10.4 64-bit",
   "language": "python",
   "name": "python3"
  },
  "language_info": {
   "codemirror_mode": {
    "name": "ipython",
    "version": 3
   },
   "file_extension": ".py",
   "mimetype": "text/x-python",
   "name": "python",
   "nbconvert_exporter": "python",
   "pygments_lexer": "ipython3",
   "version": "3.10.4"
  },
  "orig_nbformat": 4,
  "vscode": {
   "interpreter": {
    "hash": "aec2e83f823de672f513f7b31b7d58069c9522f1ad26e9202e9eea61dd190220"
   }
  }
 },
 "nbformat": 4,
 "nbformat_minor": 2
}
