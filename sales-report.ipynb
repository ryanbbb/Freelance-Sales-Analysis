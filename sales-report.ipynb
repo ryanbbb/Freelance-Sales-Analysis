{
 "cells": [
  {
   "cell_type": "code",
   "execution_count": 1,
   "metadata": {},
   "outputs": [],
   "source": [
    "import pandas as pd\n",
    "import numpy as np\n",
    "import os\n",
    "import matplotlib.pyplot as plt"
   ]
  },
  {
   "cell_type": "code",
   "execution_count": 2,
   "metadata": {},
   "outputs": [
    {
     "data": {
      "text/plain": [
       "[                                          Item Id   Sold Date Canceled Date  \\\n",
       " 0                                    m20378130010  2020-03-08           NaN   \n",
       " 1                                    m51891777986  2020-03-08           NaN   \n",
       " 2                                    m27016832358  2020-03-10           NaN   \n",
       " 3                                    m53818323221  2020-03-12           NaN   \n",
       " 4                                    m87685464403  2020-03-11           NaN   \n",
       " ..                                            ...         ...           ...   \n",
       " 348                                  m54592314798  2020-11-27    2020-11-27   \n",
       " 349                                  m68094733573  2020-12-13    2020-12-13   \n",
       " 350                                  m19463833495  2020-12-18    2021-01-12   \n",
       " 351                                       Totals:         NaN           NaN   \n",
       " 352  Report generated on: 2022-05-02 19:11:20 UTC         NaN           NaN   \n",
       " \n",
       "     Completed Date                               Item Title Order Status  \\\n",
       " 0       2020-03-12                Twelve Scenrbird Perfumes    Completed   \n",
       " 1       2020-03-12  Ted Baker Cosmetic Bag, Beauty Products    Completed   \n",
       " 2       2020-03-14                    Zara Ruffled Blouse M    Completed   \n",
       " 3       2020-03-14    Black Opium Dry Oil for Hair and Body    Completed   \n",
       " 4       2020-03-17            Flying Tomato Faux Wrap Top S    Completed   \n",
       " ..             ...                                      ...          ...   \n",
       " 348            NaN                   Clarks Botanicals Mask    Cancelled   \n",
       " 349            NaN         Illuminated LED Holiday Presents    Cancelled   \n",
       " 350            NaN               Barbie Car Emblem Ornament    Cancelled   \n",
       " 351            NaN                                      NaN          NaN   \n",
       " 352            NaN                                      NaN          NaN   \n",
       " \n",
       "     Shipped to State Shipped from State  Item Price  Buyer Shipping Fee  \\\n",
       " 0               Iowa         California        30.0                4.99   \n",
       " 1         Washington         California        20.0                0.00   \n",
       " 2     North Carolina         California        22.0                0.00   \n",
       " 3         California         California        21.0                4.99   \n",
       " 4               Utah         California        19.0                4.25   \n",
       " ..               ...                ...         ...                 ...   \n",
       " 348   North Carolina         California        26.0                4.60   \n",
       " 349         Missouri         California        57.0                9.99   \n",
       " 350         Maryland         California        12.0                3.49   \n",
       " 351              NaN                NaN     10019.0             2192.60   \n",
       " 352              NaN                NaN         NaN                 NaN   \n",
       " \n",
       "      Seller Shipping Fee  Mercari Selling Fee  Payment Processing Fee  \\\n",
       " 0                   0.00                  3.0                    0.00   \n",
       " 1                   4.99                  0.0                    0.00   \n",
       " 2                   4.99                  2.2                    0.00   \n",
       " 3                   0.00                  2.1                    0.00   \n",
       " 4                   0.00                  1.9                    0.00   \n",
       " ..                   ...                  ...                     ...   \n",
       " 348                 0.00                  0.0                    0.00   \n",
       " 349                 0.00                  0.0                    0.00   \n",
       " 350                 0.00                  0.0                    0.00   \n",
       " 351               125.82                953.2                  132.57   \n",
       " 352                  NaN                  NaN                     NaN   \n",
       " \n",
       "      Shipping Adjustment Fee  Net Seller Proceeds  Sales Tax Charged to Buyer  \\\n",
       " 0                        0.0                27.00                        2.10   \n",
       " 1                        0.0                15.01                        1.72   \n",
       " 2                        0.0                14.81                        0.00   \n",
       " 3                        0.0                18.90                        1.73   \n",
       " 4                        0.0                17.10                        1.38   \n",
       " ..                       ...                  ...                         ...   \n",
       " 348                      0.0                 0.00                        0.00   \n",
       " 349                      0.0                 0.00                        0.00   \n",
       " 350                      0.0                 0.00                        0.00   \n",
       " 351                      0.0              8340.41                      687.22   \n",
       " 352                      NaN                  NaN                         NaN   \n",
       " \n",
       "      Merchant Fees Charged to Buyer  \n",
       " 0                               0.0  \n",
       " 1                               0.0  \n",
       " 2                               0.0  \n",
       " 3                               0.0  \n",
       " 4                               0.0  \n",
       " ..                              ...  \n",
       " 348                             0.0  \n",
       " 349                             0.0  \n",
       " 350                             0.0  \n",
       " 351                             0.0  \n",
       " 352                             NaN  \n",
       " \n",
       " [353 rows x 17 columns],\n",
       "                                            Item Id   Sold Date Canceled Date  \\\n",
       " 0                                     m79152485115  2021-01-02           NaN   \n",
       " 1                                     m25361470562  2021-01-04           NaN   \n",
       " 2                                     m55190372851  2021-01-03           NaN   \n",
       " 3                                     m37970191166  2021-01-02           NaN   \n",
       " 4                                     m65068198223  2021-01-02           NaN   \n",
       " ...                                            ...         ...           ...   \n",
       " 1062                                  m51748523070  2021-12-09    2021-12-09   \n",
       " 1063                                  m20864141668  2021-12-21    2021-12-21   \n",
       " 1064                                  m36872760210  2021-12-30    2021-12-30   \n",
       " 1065                                       Totals:         NaN           NaN   \n",
       " 1066  Report generated on: 2022-05-02 19:11:21 UTC         NaN           NaN   \n",
       " \n",
       "      Completed Date                                         Item Title  \\\n",
       " 0        2021-01-05                  Jane Iredale Smooth Affair Primer   \n",
       " 1        2021-01-07                   Farmhouse Valentine's Day Pillow   \n",
       " 2        2021-01-07                        Valentine's Day Mini Gnomes   \n",
       " 3        2021-01-07                   Valentine Paris post card pillow   \n",
       " 4        2021-01-07                        Mason Salt & Pepper Shakers   \n",
       " ...             ...                                                ...   \n",
       " 1062            NaN                Metal heart beaded hanging wall art   \n",
       " 1063            NaN  FUL x Disney Rose Gold Mickey Mouse Carryon Lu...   \n",
       " 1064            NaN  Black and White Botanical Citrus Tree Framed W...   \n",
       " 1065            NaN                                                NaN   \n",
       " 1066            NaN                                                NaN   \n",
       " \n",
       "      Order Status Shipped to State Shipped from State  Item Price  \\\n",
       " 0       Completed            Texas         California        24.0   \n",
       " 1       Completed       California         California        22.0   \n",
       " 2       Completed            Texas         California         8.0   \n",
       " 3       Completed       California         California        29.0   \n",
       " 4       Completed             Ohio         California        12.0   \n",
       " ...           ...              ...                ...         ...   \n",
       " 1062    Cancelled            Texas         California        24.0   \n",
       " 1063    Cancelled         New York         California       140.0   \n",
       " 1064    Cancelled       California         California        45.0   \n",
       " 1065          NaN              NaN                NaN     31878.0   \n",
       " 1066          NaN              NaN                NaN         NaN   \n",
       " \n",
       "       Buyer Shipping Fee  Seller Shipping Fee  Mercari Selling Fee  \\\n",
       " 0                   3.49                  0.0                  2.4   \n",
       " 1                   9.99                  0.0                  2.2   \n",
       " 2                   3.49                  0.0                  0.8   \n",
       " 3                   9.99                  0.0                  2.9   \n",
       " 4                   4.99                  0.0                  1.2   \n",
       " ...                  ...                  ...                  ...   \n",
       " 1062                7.84                  0.0                  0.0   \n",
       " 1063               13.50                  0.0                  0.0   \n",
       " 1064                9.84                  0.0                  0.0   \n",
       " 1065             8032.23                  4.6               3002.3   \n",
       " 1066                 NaN                  NaN                  NaN   \n",
       " \n",
       "       Payment Processing Fee  Shipping Adjustment Fee  Net Seller Proceeds  \\\n",
       " 0                       1.00                      0.0                20.60   \n",
       " 1                       0.94                      0.0                18.86   \n",
       " 2                       0.53                      0.0                 6.67   \n",
       " 3                       1.14                      0.0                24.96   \n",
       " 4                       0.65                      0.0                10.15   \n",
       " ...                      ...                      ...                  ...   \n",
       " 1062                    0.00                      0.0                 0.00   \n",
       " 1063                    0.00                      0.0                 0.00   \n",
       " 1064                    0.00                      0.0                 0.00   \n",
       " 1065                 1170.10                      0.0             25846.00   \n",
       " 1066                     NaN                      NaN                  NaN   \n",
       " \n",
       "       Sales Tax Charged to Buyer  Merchant Fees Charged to Buyer  \n",
       " 0                           2.27                             0.0  \n",
       " 1                           1.84                             0.0  \n",
       " 2                           0.72                             0.0  \n",
       " 3                           2.76                             0.0  \n",
       " 4                           1.19                             0.0  \n",
       " ...                          ...                             ...  \n",
       " 1062                        0.00                             0.0  \n",
       " 1063                        0.00                             0.0  \n",
       " 1064                        0.00                             0.0  \n",
       " 1065                     2312.06                            50.0  \n",
       " 1066                         NaN                             NaN  \n",
       " \n",
       " [1067 rows x 17 columns],\n",
       "                                           Item Id   Sold Date Canceled Date  \\\n",
       " 0                                    m95235971642  2022-01-02           NaN   \n",
       " 1                                    m85322391755  2022-01-03           NaN   \n",
       " 2                                    m99771010574  2022-01-04           NaN   \n",
       " 3                                    m50254605703  2022-01-03           NaN   \n",
       " 4                                    m20307311742  2021-12-31           NaN   \n",
       " ..                                            ...         ...           ...   \n",
       " 312                                  m25604546824  2022-04-20    2022-04-20   \n",
       " 313                                  m21550610826  2022-05-25    2022-05-26   \n",
       " 314                                  m28442953813  2022-06-14    2022-06-14   \n",
       " 315                                       Totals:         NaN           NaN   \n",
       " 316  Report generated on: 2022-05-03 18:50:23 UTC         NaN           NaN   \n",
       " \n",
       "     Completed Date                                         Item Title  \\\n",
       " 0       2022-01-06                             Reserved: Paris Bundle   \n",
       " 1       2022-01-07  Paris Eiffel Tower Decorative Pillow Valentine...   \n",
       " 2       2022-01-09                        Reserved: Snoopy Throws x 2   \n",
       " 3       2022-01-10                     Reserved: Rock, Paper Scissors   \n",
       " 4       2022-01-11  Peanuts Snoopy In Love Valentine XOXO Hearts P...   \n",
       " ..             ...                                                ...   \n",
       " 312            NaN              Metal and Rope Rustic Farmhouse Trays   \n",
       " 313            NaN                     Reserved: Paris Jewelry Stands   \n",
       " 314            NaN                   MCM and Boho Tufted Throw Pillow   \n",
       " 315            NaN                                                NaN   \n",
       " 316            NaN                                                NaN   \n",
       " \n",
       "     Order Status Shipped to State Shipped from State  Item Price  \\\n",
       " 0      Completed       California         California        80.0   \n",
       " 1      Completed       California         California        30.0   \n",
       " 2      Completed           Hawaii         California        60.0   \n",
       " 3      Completed         New York         California        15.0   \n",
       " 4      Completed          Florida         California        28.0   \n",
       " ..           ...              ...                ...         ...   \n",
       " 312    Cancelled         New York         California        28.0   \n",
       " 313    Cancelled          Arizona         California        40.0   \n",
       " 314    Cancelled       California         California        24.0   \n",
       " 315          NaN              NaN                NaN     14101.0   \n",
       " 316          NaN              NaN                NaN         NaN   \n",
       " \n",
       "      Buyer Shipping Fee  Seller Shipping Fee  Mercari Selling Fee  \\\n",
       " 0                  9.84                 0.00                  8.0   \n",
       " 1                  7.84                 0.00                  3.0   \n",
       " 2                 17.75                 0.00                  6.0   \n",
       " 3                  0.00                 0.00                  1.5   \n",
       " 4                  7.84                 0.00                  2.8   \n",
       " ..                  ...                  ...                  ...   \n",
       " 312                7.99                 0.00                  0.0   \n",
       " 313                7.99                 0.00                  0.0   \n",
       " 314                7.99                 0.00                  0.0   \n",
       " 315             2678.25                 6.18               1351.4   \n",
       " 316                 NaN                  NaN                  NaN   \n",
       " \n",
       "      Payment Processing Fee  Shipping Adjustment Fee  Net Seller Proceeds  \\\n",
       " 0                      2.62                      0.0                69.38   \n",
       " 1                      1.17                      0.0                25.83   \n",
       " 2                      2.04                      0.0                51.96   \n",
       " 3                      0.74                      0.0                12.76   \n",
       " 4                      1.11                      0.0                24.09   \n",
       " ..                      ...                      ...                  ...   \n",
       " 312                    0.00                      0.0                 0.00   \n",
       " 313                    0.00                      0.0                 0.00   \n",
       " 314                    0.00                      0.0                 0.00   \n",
       " 315                  483.06                      0.0             11673.36   \n",
       " 316                     NaN                      NaN                  NaN   \n",
       " \n",
       "      Sales Tax Charged to Buyer  Merchant Fees Charged to Buyer  \n",
       " 0                          7.60                             2.0  \n",
       " 1                          2.33                             0.0  \n",
       " 2                          3.50                             0.0  \n",
       " 3                          1.29                             0.0  \n",
       " 4                          2.33                             0.0  \n",
       " ..                          ...                             ...  \n",
       " 312                        0.00                             0.0  \n",
       " 313                        0.00                             0.0  \n",
       " 314                        0.00                             0.0  \n",
       " 315                     1097.94                            44.0  \n",
       " 316                         NaN                             NaN  \n",
       " \n",
       " [317 rows x 17 columns]]"
      ]
     },
     "execution_count": 2,
     "metadata": {},
     "output_type": "execute_result"
    }
   ],
   "source": [
    "frames = []\n",
    "dir = \"C:/Users/ryanb/sales_report/\"\n",
    "for i in os.listdir(dir):\n",
    "    frames.append(pd.read_csv(os.path.join(dir, i)))\n",
    "frames\n"
   ]
  },
  {
   "cell_type": "code",
   "execution_count": 3,
   "metadata": {},
   "outputs": [
    {
     "data": {
      "text/plain": [
       "(1737, 17)"
      ]
     },
     "execution_count": 3,
     "metadata": {},
     "output_type": "execute_result"
    }
   ],
   "source": [
    "df = pd.concat(frames, ignore_index=True)\n",
    "df.shape"
   ]
  },
  {
   "cell_type": "code",
   "execution_count": 4,
   "metadata": {},
   "outputs": [
    {
     "name": "stderr",
     "output_type": "stream",
     "text": [
      "C:\\Users\\ryanb\\AppData\\Local\\Temp\\ipykernel_17360\\2677467803.py:2: FutureWarning: In a future version of pandas all arguments of DataFrame.drop except for the argument 'labels' will be keyword-only.\n",
      "  df = df.drop('Shipped from State',1)\n"
     ]
    }
   ],
   "source": [
    "df = df.dropna(axis = 0, thresh = 2)\n",
    "df = df.drop('Shipped from State',1)"
   ]
  },
  {
   "cell_type": "code",
   "execution_count": 5,
   "metadata": {},
   "outputs": [
    {
     "data": {
      "text/plain": [
       "Text(0.5, 1.0, 'Number of Sales by State')"
      ]
     },
     "execution_count": 5,
     "metadata": {},
     "output_type": "execute_result"
    },
    {
     "data": {
      "image/png": "[encoded data removed]",
      "text/plain": [
       "<Figure size 432x288 with 1 Axes>"
      ]
     },
     "metadata": {
      "needs_background": "light"
     },
     "output_type": "display_data"
    }
   ],
   "source": [
    "vals = df.value_counts('Shipped to State')[:4]\n",
    "labels = ['California','Florida','Texas','New York']\n",
    "plt.bar(labels,vals)\n",
    "plt.ylabel('# Sales')\n",
    "plt.title('Number of Sales by State')"
   ]
  },
  {
   "cell_type": "code",
   "execution_count": 20,
   "metadata": {},
   "outputs": [
    {
     "ename": "TypeError",
     "evalue": "'float' object is not subscriptable",
     "output_type": "error",
     "traceback": [
      "\u001b[1;31m---------------------------------------------------------------------------\u001b[0m",
      "\u001b[1;31mTypeError\u001b[0m                                 Traceback (most recent call last)",
      "\u001b[1;32mc:\\Users\\ryanb\\OneDrive\\Documents\\GitHub\\freelance-sales-analysis\\sales-report.ipynb Cell 6'\u001b[0m in \u001b[0;36m<cell line: 2>\u001b[1;34m()\u001b[0m\n\u001b[0;32m      <a href='vscode-notebook-cell:/c%3A/Users/ryanb/OneDrive/Documents/GitHub/freelance-sales-analysis/sales-report.ipynb#ch0000005?line=0'>1</a>\u001b[0m df[\u001b[39m'\u001b[39m\u001b[39mYear\u001b[39m\u001b[39m'\u001b[39m] \u001b[39m=\u001b[39m df[\u001b[39m'\u001b[39m\u001b[39mSold Date\u001b[39m\u001b[39m'\u001b[39m]\n\u001b[1;32m----> <a href='vscode-notebook-cell:/c%3A/Users/ryanb/OneDrive/Documents/GitHub/freelance-sales-analysis/sales-report.ipynb#ch0000005?line=1'>2</a>\u001b[0m df[\u001b[39m'\u001b[39m\u001b[39mYear\u001b[39m\u001b[39m'\u001b[39m] \u001b[39m=\u001b[39m df[\u001b[39m'\u001b[39;49m\u001b[39mYear\u001b[39;49m\u001b[39m'\u001b[39;49m]\u001b[39m.\u001b[39;49mapply(\u001b[39mlambda\u001b[39;49;00m x:  x[:\u001b[39m4\u001b[39;49m])\n\u001b[0;32m      <a href='vscode-notebook-cell:/c%3A/Users/ryanb/OneDrive/Documents/GitHub/freelance-sales-analysis/sales-report.ipynb#ch0000005?line=2'>3</a>\u001b[0m df\n",
      "File \u001b[1;32mc:\\Users\\ryanb\\AppData\\Local\\Programs\\Python\\Python310\\lib\\site-packages\\pandas\\core\\series.py:4433\u001b[0m, in \u001b[0;36mSeries.apply\u001b[1;34m(self, func, convert_dtype, args, **kwargs)\u001b[0m\n\u001b[0;32m   4323\u001b[0m \u001b[39mdef\u001b[39;00m \u001b[39mapply\u001b[39m(\n\u001b[0;32m   4324\u001b[0m     \u001b[39mself\u001b[39m,\n\u001b[0;32m   4325\u001b[0m     func: AggFuncType,\n\u001b[1;32m   (...)\u001b[0m\n\u001b[0;32m   4328\u001b[0m     \u001b[39m*\u001b[39m\u001b[39m*\u001b[39mkwargs,\n\u001b[0;32m   4329\u001b[0m ) \u001b[39m-\u001b[39m\u001b[39m>\u001b[39m DataFrame \u001b[39m|\u001b[39m Series:\n\u001b[0;32m   4330\u001b[0m     \u001b[39m\"\"\"\u001b[39;00m\n\u001b[0;32m   4331\u001b[0m \u001b[39m    Invoke function on values of Series.\u001b[39;00m\n\u001b[0;32m   4332\u001b[0m \n\u001b[1;32m   (...)\u001b[0m\n\u001b[0;32m   4431\u001b[0m \u001b[39m    dtype: float64\u001b[39;00m\n\u001b[0;32m   4432\u001b[0m \u001b[39m    \"\"\"\u001b[39;00m\n\u001b[1;32m-> 4433\u001b[0m     \u001b[39mreturn\u001b[39;00m SeriesApply(\u001b[39mself\u001b[39;49m, func, convert_dtype, args, kwargs)\u001b[39m.\u001b[39;49mapply()\n",
      "File \u001b[1;32mc:\\Users\\ryanb\\AppData\\Local\\Programs\\Python\\Python310\\lib\\site-packages\\pandas\\core\\apply.py:1082\u001b[0m, in \u001b[0;36mSeriesApply.apply\u001b[1;34m(self)\u001b[0m\n\u001b[0;32m   1078\u001b[0m \u001b[39mif\u001b[39;00m \u001b[39misinstance\u001b[39m(\u001b[39mself\u001b[39m\u001b[39m.\u001b[39mf, \u001b[39mstr\u001b[39m):\n\u001b[0;32m   1079\u001b[0m     \u001b[39m# if we are a string, try to dispatch\u001b[39;00m\n\u001b[0;32m   1080\u001b[0m     \u001b[39mreturn\u001b[39;00m \u001b[39mself\u001b[39m\u001b[39m.\u001b[39mapply_str()\n\u001b[1;32m-> 1082\u001b[0m \u001b[39mreturn\u001b[39;00m \u001b[39mself\u001b[39;49m\u001b[39m.\u001b[39;49mapply_standard()\n",
      "File \u001b[1;32mc:\\Users\\ryanb\\AppData\\Local\\Programs\\Python\\Python310\\lib\\site-packages\\pandas\\core\\apply.py:1137\u001b[0m, in \u001b[0;36mSeriesApply.apply_standard\u001b[1;34m(self)\u001b[0m\n\u001b[0;32m   1131\u001b[0m         values \u001b[39m=\u001b[39m obj\u001b[39m.\u001b[39mastype(\u001b[39mobject\u001b[39m)\u001b[39m.\u001b[39m_values\n\u001b[0;32m   1132\u001b[0m         \u001b[39m# error: Argument 2 to \"map_infer\" has incompatible type\u001b[39;00m\n\u001b[0;32m   1133\u001b[0m         \u001b[39m# \"Union[Callable[..., Any], str, List[Union[Callable[..., Any], str]],\u001b[39;00m\n\u001b[0;32m   1134\u001b[0m         \u001b[39m# Dict[Hashable, Union[Union[Callable[..., Any], str],\u001b[39;00m\n\u001b[0;32m   1135\u001b[0m         \u001b[39m# List[Union[Callable[..., Any], str]]]]]\"; expected\u001b[39;00m\n\u001b[0;32m   1136\u001b[0m         \u001b[39m# \"Callable[[Any], Any]\"\u001b[39;00m\n\u001b[1;32m-> 1137\u001b[0m         mapped \u001b[39m=\u001b[39m lib\u001b[39m.\u001b[39;49mmap_infer(\n\u001b[0;32m   1138\u001b[0m             values,\n\u001b[0;32m   1139\u001b[0m             f,  \u001b[39m# type: ignore[arg-type]\u001b[39;49;00m\n\u001b[0;32m   1140\u001b[0m             convert\u001b[39m=\u001b[39;49m\u001b[39mself\u001b[39;49m\u001b[39m.\u001b[39;49mconvert_dtype,\n\u001b[0;32m   1141\u001b[0m         )\n\u001b[0;32m   1143\u001b[0m \u001b[39mif\u001b[39;00m \u001b[39mlen\u001b[39m(mapped) \u001b[39mand\u001b[39;00m \u001b[39misinstance\u001b[39m(mapped[\u001b[39m0\u001b[39m], ABCSeries):\n\u001b[0;32m   1144\u001b[0m     \u001b[39m# GH#43986 Need to do list(mapped) in order to get treated as nested\u001b[39;00m\n\u001b[0;32m   1145\u001b[0m     \u001b[39m#  See also GH#25959 regarding EA support\u001b[39;00m\n\u001b[0;32m   1146\u001b[0m     \u001b[39mreturn\u001b[39;00m obj\u001b[39m.\u001b[39m_constructor_expanddim(\u001b[39mlist\u001b[39m(mapped), index\u001b[39m=\u001b[39mobj\u001b[39m.\u001b[39mindex)\n",
      "File \u001b[1;32mc:\\Users\\ryanb\\AppData\\Local\\Programs\\Python\\Python310\\lib\\site-packages\\pandas\\_libs\\lib.pyx:2870\u001b[0m, in \u001b[0;36mpandas._libs.lib.map_infer\u001b[1;34m()\u001b[0m\n",
      "\u001b[1;32mc:\\Users\\ryanb\\OneDrive\\Documents\\GitHub\\freelance-sales-analysis\\sales-report.ipynb Cell 6'\u001b[0m in \u001b[0;36m<lambda>\u001b[1;34m(x)\u001b[0m\n\u001b[0;32m      <a href='vscode-notebook-cell:/c%3A/Users/ryanb/OneDrive/Documents/GitHub/freelance-sales-analysis/sales-report.ipynb#ch0000005?line=0'>1</a>\u001b[0m df[\u001b[39m'\u001b[39m\u001b[39mYear\u001b[39m\u001b[39m'\u001b[39m] \u001b[39m=\u001b[39m df[\u001b[39m'\u001b[39m\u001b[39mSold Date\u001b[39m\u001b[39m'\u001b[39m]\n\u001b[1;32m----> <a href='vscode-notebook-cell:/c%3A/Users/ryanb/OneDrive/Documents/GitHub/freelance-sales-analysis/sales-report.ipynb#ch0000005?line=1'>2</a>\u001b[0m df[\u001b[39m'\u001b[39m\u001b[39mYear\u001b[39m\u001b[39m'\u001b[39m] \u001b[39m=\u001b[39m df[\u001b[39m'\u001b[39m\u001b[39mYear\u001b[39m\u001b[39m'\u001b[39m]\u001b[39m.\u001b[39mapply(\u001b[39mlambda\u001b[39;00m x:  x[:\u001b[39m4\u001b[39;49m])\n\u001b[0;32m      <a href='vscode-notebook-cell:/c%3A/Users/ryanb/OneDrive/Documents/GitHub/freelance-sales-analysis/sales-report.ipynb#ch0000005?line=2'>3</a>\u001b[0m df\n",
      "\u001b[1;31mTypeError\u001b[0m: 'float' object is not subscriptable"
     ]
    }
   ],
   "source": [
    "df['Year'] = df['Sold Date']\n",
    "df['Year'] = df['Year'].apply(lambda x:  x[:4])\n",
    "df"
   ]
  },
  {
   "cell_type": "code",
   "execution_count": null,
   "metadata": {},
   "outputs": [],
   "source": []
  }
 ],
 "metadata": {
  "kernelspec": {
   "display_name": "Python 3.10.4 64-bit",
   "language": "python",
   "name": "python3"
  },
  "language_info": {
   "codemirror_mode": {
    "name": "ipython",
    "version": 3
   },
   "file_extension": ".py",
   "mimetype": "text/x-python",
   "name": "python",
   "nbconvert_exporter": "python",
   "pygments_lexer": "ipython3",
   "version": "3.10.4"
  },
  "orig_nbformat": 4,
  "vscode": {
   "interpreter": {
    "hash": "aec2e83f823de672f513f7b31b7d58069c9522f1ad26e9202e9eea61dd190220"
   }
  }
 },
 "nbformat": 4,
 "nbformat_minor": 2
}
